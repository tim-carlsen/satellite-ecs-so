{
 "cells": [
  {
   "cell_type": "code",
   "execution_count": 1,
   "metadata": {},
   "outputs": [],
   "source": [
    "##################################################################################################################\n",
    "# IMPORT MODULES\n",
    "##################################################################################################################\n",
    "\n",
    "import matplotlib as mpl\n",
    "import matplotlib.pyplot as plt\n",
    "#from mpl_toolkits.basemap import Basemap\n",
    "from mpl_toolkits.mplot3d import Axes3D\n",
    "import numpy as np\n",
    "import glob\n",
    "\n",
    "from pyhdf.SD import SD, SDC, SDAttr, HDF4Error\n",
    "from pyhdf import HDF, VS, V\n",
    "from pyhdf.HDF import *\n",
    "from pyhdf.VS import *\n",
    "\n",
    "import pprint\n",
    "#from pyproj import Proj, transform\n",
    "\n",
    "import os\n",
    "import os.path\n",
    "import sys \n",
    "\n",
    "import matplotlib as mpl\n",
    "import cartopy.crs as ccrs\n",
    "#import pyresample\n",
    "\n",
    "import datetime\n",
    "\n",
    "label_size=12\n",
    "mpl.rcParams['xtick.labelsize'] = label_size\n",
    "mpl.rcParams['ytick.labelsize'] = label_size"
   ]
  },
  {
   "cell_type": "code",
   "execution_count": 10,
   "metadata": {},
   "outputs": [
    {
     "name": "stdout",
     "output_type": "stream",
     "text": [
      "['2007001104500_03613_CS_ECMWF-AUX_GRANULE_P_R05_E02_F00.hdf']\n"
     ]
    },
    {
     "name": "stderr",
     "output_type": "stream",
     "text": [
      "/Users/timcar/opt/anaconda3/lib/python3.7/site-packages/ipykernel_launcher.py:61: RuntimeWarning: Mean of empty slice\n"
     ]
    },
    {
     "data": {
      "image/png": "[encoded data removed]",
      "text/plain": [
       "<Figure size 432x288 with 1 Axes>"
      ]
     },
     "metadata": {
      "needs_background": "light"
     },
     "output_type": "display_data"
    },
    {
     "data": {
      "image/png": "[encoded data removed]",
      "text/plain": [
       "<Figure size 432x288 with 1 Axes>"
      ]
     },
     "metadata": {
      "needs_background": "light"
     },
     "output_type": "display_data"
    }
   ],
   "source": [
    "##################################################################################################################\n",
    "# GENERATE PRESSURE GRID from mean pressure profile Southern Ocean\n",
    "##################################################################################################################\n",
    "from scipy.optimize import curve_fit\n",
    "\n",
    "def exponential_fit(x, a, b, c):\n",
    "    return a*np.exp(b*x) + c\n",
    "\n",
    "\n",
    "year = 2007\n",
    "granule = 3613\n",
    "file_aux = glob.glob('*'+str(granule)+'*ECMWF-AUX*.hdf')\n",
    "print(file_aux)\n",
    "\n",
    "# Check if file exists\n",
    "if file_aux:\n",
    "    file_aux = file_aux[0]\n",
    "else:\n",
    "    print('Cannot generate pressure grid (file missing)...')\n",
    "    sys.exit()\n",
    "\n",
    "try:\n",
    "    hdf_aux = SD(file_aux, SDC.READ)\n",
    "\n",
    "    sds_obj = hdf_aux.select('Pressure') # select sds\n",
    "    pres = sds_obj.get() # get sds data\n",
    "    pres = pres / 100. # in hPa\n",
    "\n",
    "    \n",
    "    f = HDF(file_aux) \n",
    "    vs = f.vstart() \n",
    "    Latitude = vs.attach('Latitude')\n",
    "    Longitude = vs.attach('Longitude')\n",
    "    lat = np.array(Latitude[:])\n",
    "    lon = np.array(Longitude[:])\n",
    "    Latitude.detach() # \"close\" the vdata\n",
    "    Longitude.detach() # \"close\" the vdata\n",
    "    vs.end() # terminate the vdata interface\n",
    "    f.close()\n",
    "    \n",
    "except HDF4Error as msg:\n",
    "    print(\"HDF4Error ECMWF-AUX\", msg)\n",
    "    print(\"Cannot generate pressure grid (reading error) ...\")\n",
    "    sys.exit()\n",
    "    \n",
    "\n",
    "# Define Southern Ocean\n",
    "index_so=np.where((lat.flatten() < -40) & (lat.flatten() > -70))\n",
    "index_so=np.array(index_so)\n",
    "index_so=index_so.flatten()\n",
    "\n",
    "\n",
    "# Generate linear height grid\n",
    "h = 120.\n",
    "for i in range(124):\n",
    "    h=np.append(h,np.max(h)+240.)\n",
    "h = h[::-1]\n",
    "\n",
    "# Generate exponential pressure grid from mean over SO of one exemplary granule\n",
    "pres[np.where(pres == -9.99)] = np.nan\n",
    "pres_mean = np.nanmean(pres[index_so,:], axis=0)\n",
    "\n",
    "\n",
    "dummy = np.array(pres_mean[np.where(np.isfinite(pres_mean))])\n",
    "\n",
    "x = np.arange(dummy.size)\n",
    "y = dummy.flatten()\n",
    "\n",
    "fitting_parameters, covariance = curve_fit(exponential_fit, x, y, p0=[1, -1, 0])\n",
    "a, b, c = fitting_parameters\n",
    "\n",
    "next_x = np.arange(len(h[dummy.size:125]))+dummy.size\n",
    "next_y = exponential_fit(next_x, a, b, c)\n",
    "\n",
    "#next_y corrected by 15hPa to fit to existing curve (roughly determined via including last point in exponential_fit)\n",
    "next_y = next_y - 15.\n",
    "\n",
    "pres_grid = np.append(dummy, next_y)   \n",
    "n_pres = len(pres_grid)\n",
    "\n",
    "plt.scatter(h,pres_grid)\n",
    "plt.ylim(1100,200)\n",
    "plt.show()\n",
    "\n",
    "plt.plot(pres_grid)\n",
    "plt.scatter(np.arange(125),pres_grid)\n",
    "plt.ylim(1900,0)\n",
    "plt.show()\n",
    "\n",
    "outfile = 'pres_grid_SO.dat'\n",
    "np.savetxt(outfile, list(pres_grid),delimiter='   ',fmt='%11.12f')\n"
   ]
  },
  {
   "cell_type": "code",
   "execution_count": 11,
   "metadata": {},
   "outputs": [
    {
     "name": "stdout",
     "output_type": "stream",
     "text": [
      "[  25.80005455   26.77323723   27.746315     28.71940804   29.69555283\n",
      "   30.85063171   32.06476212   33.27961349   34.49384308   35.70843506\n",
      "   36.91784286   38.21681595   39.74407959   41.27172852   42.7985611\n",
      "   44.32645798   45.8476181    47.51812363   49.39730453   51.27867508\n",
      "   53.16002655   55.04144669   57.01653671   59.27810287   61.60247421\n",
      "   63.92686081   66.25115204   68.57556152   71.04392242   73.79294586\n",
      "   76.65486908   79.51682281   82.37882996   85.35420227   88.52363586\n",
      "   91.89575958   95.28876495   98.8385849   102.58013153  106.53373718\n",
      "  110.49306488  114.51815033  118.75922394  123.21208191  127.89511108\n",
      "  132.59512329  137.44200134  142.49269104  147.79646301  153.27070618\n",
      "  158.95489502  164.80267334  170.91416931  177.25505066  183.80792236\n",
      "  190.61116028  197.68930054  205.03225708  212.61071777  220.53791809\n",
      "  228.79301453  237.31736755  246.1315155   255.28953552  264.83731079\n",
      "  274.60089111  284.79379272  295.33694458  306.07299805  317.25033569\n",
      "  328.87747192  340.73394775  353.16061401  365.81417847  378.87081909\n",
      "  392.32876587  406.0944519   420.38952637  435.00518799  450.01470947\n",
      "  465.42523193  481.12762451  497.50756836  514.27661133  531.44805908\n",
      "  549.12231445  567.20477295  585.63616943  604.8036499   624.52972412\n",
      "  644.62939453  665.43475342  686.59649658  708.32623291  730.90429688\n",
      "  753.94073486  777.69458008  801.96429443  827.02453613  852.55780029\n",
      "  878.84338379  905.85119629  933.46032715  961.72601318  990.50982666\n",
      " 1023.62720803 1057.76387262 1093.00206676 1129.37733485 1166.92636824\n",
      " 1205.68704225 1245.69845438 1287.00096373 1329.6362317  1373.64726405\n",
      " 1419.07845426 1465.9756283  1514.38609087 1564.35867308 1615.94378178\n",
      " 1669.19345033 1724.16139112 1780.90304975 1839.47566093 1899.93830625]\n"
     ]
    }
   ],
   "source": [
    "print(pres_grid)"
   ]
  },
  {
   "cell_type": "code",
   "execution_count": 12,
   "metadata": {},
   "outputs": [],
   "source": [
    "test_grid = np.loadtxt(outfile)"
   ]
  },
  {
   "cell_type": "code",
   "execution_count": 14,
   "metadata": {},
   "outputs": [
    {
     "name": "stdout",
     "output_type": "stream",
     "text": [
      "[  25.80005455   26.77323723   27.746315     28.71940804   29.69555283\n",
      "   30.85063171   32.06476212   33.27961349   34.49384308   35.70843506\n",
      "   36.91784286   38.21681595   39.74407959   41.27172852   42.7985611\n",
      "   44.32645798   45.8476181    47.51812363   49.39730453   51.27867508\n",
      "   53.16002655   55.04144669   57.01653671   59.27810287   61.60247421\n",
      "   63.92686081   66.25115204   68.57556152   71.04392242   73.79294586\n",
      "   76.65486908   79.51682281   82.37882996   85.35420227   88.52363586\n",
      "   91.89575958   95.28876495   98.8385849   102.58013153  106.53373718\n",
      "  110.49306488  114.51815033  118.75922394  123.21208191  127.89511108\n",
      "  132.59512329  137.44200134  142.49269104  147.79646301  153.27070618\n",
      "  158.95489502  164.80267334  170.91416931  177.25505066  183.80792236\n",
      "  190.61116028  197.68930054  205.03225708  212.61071777  220.53791809\n",
      "  228.79301453  237.31736755  246.1315155   255.28953552  264.83731079\n",
      "  274.60089111  284.79379272  295.33694458  306.07299805  317.25033569\n",
      "  328.87747192  340.73394775  353.16061401  365.81417847  378.87081909\n",
      "  392.32876587  406.0944519   420.38952637  435.00518799  450.01470947\n",
      "  465.42523193  481.12762451  497.50756836  514.27661133  531.44805908\n",
      "  549.12231445  567.20477295  585.63616943  604.8036499   624.52972412\n",
      "  644.62939453  665.43475342  686.59649658  708.32623291  730.90429688\n",
      "  753.94073486  777.69458008  801.96429443  827.02453613  852.55780029\n",
      "  878.84338379  905.85119629  933.46032715  961.72601318  990.50982666\n",
      " 1023.62720803 1057.76387262 1093.00206676 1129.37733485 1166.92636824\n",
      " 1205.68704225 1245.69845438 1287.00096373 1329.6362317  1373.64726405\n",
      " 1419.07845426 1465.9756283  1514.38609087 1564.35867308 1615.94378178\n",
      " 1669.19345033 1724.16139112 1780.90304975 1839.47566093 1899.93830625]\n"
     ]
    }
   ],
   "source": [
    "print(test_grid)"
   ]
  },
  {
   "cell_type": "code",
   "execution_count": 15,
   "metadata": {},
   "outputs": [
    {
     "name": "stdout",
     "output_type": "stream",
     "text": [
      "[ 1.03028697e-13  4.44089210e-13 -4.05009359e-13 -3.19744231e-13\n",
      "  2.66453526e-13 -1.88293825e-13  4.83169060e-13 -4.97379915e-14\n",
      " -2.84217094e-13  2.48689958e-13 -2.34479103e-13 -3.26849658e-13\n",
      "  2.48689958e-13  0.00000000e+00 -4.05009359e-13  7.81597009e-14\n",
      " -3.41060513e-13  1.42108547e-14 -1.06581410e-13  2.98427949e-13\n",
      "  2.84217094e-14 -1.42108547e-14 -4.83169060e-13  1.42108547e-13\n",
      " -4.83169060e-13 -1.70530257e-13 -2.13162821e-13  4.97379915e-13\n",
      " -4.12114787e-13 -4.12114787e-13  1.56319402e-13 -4.12114787e-13\n",
      "  3.12638804e-13  1.84741111e-13  1.84741111e-13  4.68958206e-13\n",
      " -2.84217094e-13 -3.41060513e-13  2.84217094e-13 -1.84741111e-13\n",
      " -9.94759830e-14  1.56319402e-13 -2.84217094e-13  3.12638804e-13\n",
      " -3.69482223e-13  3.69482223e-13 -4.26325641e-13 -5.68434189e-14\n",
      " -3.12638804e-13  1.98951966e-13 -2.55795385e-13  2.55795385e-13\n",
      " -4.26325641e-13  3.12638804e-13 -2.55795385e-13 -3.12638804e-13\n",
      " -3.69482223e-13 -1.13686838e-13  5.11590770e-13 -3.12638804e-13\n",
      " -1.98951966e-13  5.68434189e-14  3.12638804e-13  5.68434189e-14\n",
      "  3.97903932e-13 -2.27373675e-13 -3.97903932e-13 -1.13686838e-13\n",
      "  0.00000000e+00 -3.97903932e-13 -1.13686838e-13 -2.27373675e-13\n",
      "  1.13686838e-13  1.13686838e-13  1.13686838e-13  3.97903932e-13\n",
      "  1.13686838e-13  5.11590770e-13 -2.27373675e-13 -2.27373675e-13\n",
      "  2.27373675e-13  2.27373675e-13  0.00000000e+00  0.00000000e+00\n",
      " -2.27373675e-13  0.00000000e+00  2.27373675e-13  2.27373675e-13\n",
      "  2.27373675e-13  2.27373675e-13  0.00000000e+00  2.27373675e-13\n",
      " -2.27373675e-13 -2.27373675e-13  0.00000000e+00 -2.27373675e-13\n",
      "  0.00000000e+00  2.27373675e-13 -4.54747351e-13  2.27373675e-13\n",
      " -4.54747351e-13 -4.54747351e-13  4.54747351e-13  2.27373675e-13\n",
      " -2.27373675e-13  1.13686838e-13  4.54747351e-13  0.00000000e+00\n",
      " -2.27373675e-13  2.27373675e-13  0.00000000e+00  2.27373675e-13\n",
      "  0.00000000e+00 -2.27373675e-13  2.27373675e-13 -4.54747351e-13\n",
      " -2.27373675e-13  2.27373675e-13 -2.27373675e-13  2.27373675e-13\n",
      "  0.00000000e+00 -2.27373675e-13  4.54747351e-13  0.00000000e+00\n",
      "  0.00000000e+00]\n"
     ]
    }
   ],
   "source": [
    "print(test_grid - pres_grid)"
   ]
  },
  {
   "cell_type": "code",
   "execution_count": null,
   "metadata": {},
   "outputs": [],
   "source": []
  }
 ],
 "metadata": {
  "kernelspec": {
   "display_name": "Python 3",
   "language": "python",
   "name": "python3"
  },
  "language_info": {
   "codemirror_mode": {
    "name": "ipython",
    "version": 3
   },
   "file_extension": ".py",
   "mimetype": "text/x-python",
   "name": "python",
   "nbconvert_exporter": "python",
   "pygments_lexer": "ipython3",
   "version": "3.7.6"
  }
 },
 "nbformat": 4,
 "nbformat_minor": 4
}
